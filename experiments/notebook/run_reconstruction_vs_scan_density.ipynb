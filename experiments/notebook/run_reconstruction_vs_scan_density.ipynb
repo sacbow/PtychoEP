{
 "cells": [
  {
   "cell_type": "code",
   "execution_count": 2,
   "id": "7f77b5d7",
   "metadata": {},
   "outputs": [
    {
     "name": "stdout",
     "output_type": "stream",
     "text": [
      "PYTHONPATH set to: c:\\Users\\ndhaj\\Desktop\\TCI\n"
     ]
    }
   ],
   "source": [
    "import sys\n",
    "import os\n",
    "\n",
    "# プロジェクトルートをsys.pathに追加\n",
    "project_root = os.path.abspath(os.path.join(os.path.dirname(\"__file__\"), \"../../..\"))\n",
    "if project_root not in sys.path:\n",
    "    sys.path.insert(0, project_root)\n",
    "\n",
    "print(\"PYTHONPATH set to:\", project_root)"
   ]
  },
  {
   "cell_type": "code",
   "execution_count": 17,
   "id": "cafffb39",
   "metadata": {},
   "outputs": [
    {
     "name": "stdout",
     "output_type": "stream",
     "text": [
      "[INFO] Sampling ratio (alpha): 4.00\n",
      " Scan Number (J) : 225\n",
      " Noise Stats : {'type': 'Gaussian', 'var': 0.000118, 'snr_mean_db': 29.98586654663086}\n"
     ]
    }
   ],
   "source": [
    "# =============================\n",
    "# [0] 共通Importと初期化\n",
    "# =============================\n",
    "from PtychoEP.backend.backend import set_backend, np\n",
    "set_backend(\"numpy\")\n",
    "\n",
    "from PtychoEP.ptycho.core import Ptycho\n",
    "from PtychoEP.utils.io_utils import load_data_image\n",
    "from PtychoEP.ptycho.aperture_utils import circular_aperture\n",
    "from PtychoEP.ptycho.scan_utils import generate_spiral_scan_positions\n",
    "from PtychoEP.ptycho.noise import GaussianNoise\n",
    "from PtychoEP.ptycho.visualize import compute_illumination\n",
    "from PtychoEP.rng.rng_utils import get_rng\n",
    "from PtychoEP.classic_engines.pie import PIE\n",
    "from PtychoEP.ptychoep.core import PtychoEP\n",
    "\n",
    "import matplotlib.pyplot as plt\n",
    "\n",
    "\n",
    "# =============================\n",
    "# [1] Seed指定\n",
    "# =============================\n",
    "data_seed = 0\n",
    "init_seed = 0\n",
    "rng_data = get_rng(data_seed)\n",
    "rng_init = get_rng(init_seed)\n",
    "\n",
    "# =============================\n",
    "# [2] 複素オブジェクトとプローブ生成\n",
    "# =============================\n",
    "amp = load_data_image(\"cameraman.png\")\n",
    "phs = load_data_image(\"eagle.png\")\n",
    "obj_true = amp * np().exp(1j * np().pi / 2 * phs)\n",
    "\n",
    "probe = circular_aperture(size=64, r=0.47)\n",
    "\n",
    "# =============================\n",
    "# [3] Ptychoオブジェクトとデータ生成\n",
    "# =============================\n",
    "ptycho = Ptycho()\n",
    "ptycho.set_object(obj_true)\n",
    "ptycho.set_probe(probe)\n",
    "\n",
    "positions = generate_spiral_scan_positions(\n",
    "    image_size=512,\n",
    "    probe_size=64,\n",
    "    step=16.93,\n",
    "    num_points=1000\n",
    ")\n",
    "ptycho.forward_and_set_diffraction(positions)\n",
    "GaussianNoise(var=11.8e-5, seed=data_seed) @ ptycho\n",
    "\n",
    "# 観測率を計算\n",
    "_, alpha = compute_illumination(ptycho)\n",
    "print(f\"[INFO] Sampling ratio (alpha): {alpha:.2f}\\n Scan Number (J) : {len(ptycho._diff_data)}\\n Noise Stats : {ptycho.noise_stats}\")"
   ]
  },
  {
   "cell_type": "code",
   "execution_count": null,
   "id": "d552e1b5",
   "metadata": {},
   "outputs": [],
   "source": []
  }
 ],
 "metadata": {
  "kernelspec": {
   "display_name": "gpie-env",
   "language": "python",
   "name": "python3"
  },
  "language_info": {
   "codemirror_mode": {
    "name": "ipython",
    "version": 3
   },
   "file_extension": ".py",
   "mimetype": "text/x-python",
   "name": "python",
   "nbconvert_exporter": "python",
   "pygments_lexer": "ipython3",
   "version": "3.10.5"
  }
 },
 "nbformat": 4,
 "nbformat_minor": 5
}
